{
  "nbformat": 4,
  "nbformat_minor": 0,
  "metadata": {
    "colab": {
      "name": "DMWProject.ipynb",
      "provenance": [],
      "collapsed_sections": [],
      "toc_visible": true,
      "include_colab_link": true
    },
    "kernelspec": {
      "name": "python3",
      "display_name": "Python 3"
    }
  },
  "cells": [
    {
      "cell_type": "markdown",
      "metadata": {
        "id": "view-in-github",
        "colab_type": "text"
      },
      "source": [
        "<a href=\"https://colab.research.google.com/github/MrunaliShigawan/RainfallPrediction/blob/master/Rainpredition.ipynb\" target=\"_parent\"><img src=\"https://colab.research.google.com/assets/colab-badge.svg\" alt=\"Open In Colab\"/></a>"
      ]
    },
    {
      "cell_type": "code",
      "metadata": {
        "id": "KI3APoRP22zA",
        "colab_type": "code",
        "colab": {}
      },
      "source": [
        "import pandas as pd\n",
        "import matplotlib.pyplot as plt\n",
        "import numpy as np\n",
        "from sklearn.preprocessing import MinMaxScaler\n",
        "from sklearn.metrics import confusion_matrix\n",
        "\n",
        "url='https://raw.githubusercontent.com/MrunaliShigawan/RainfallPrediction/master/Weather.csv'\n",
        "\n",
        "dataset = pd.read_csv(url)\n"
      ],
      "execution_count": null,
      "outputs": []
    },
    {
      "cell_type": "code",
      "metadata": {
        "id": "Qe-QwByL6YfH",
        "colab_type": "code",
        "colab": {
          "base_uri": "https://localhost:8080/",
          "height": 206
        },
        "outputId": "c0df9ccb-24ae-4d53-9416-fe652db699df"
      },
      "source": [
        "dataset.head(5)\n"
      ],
      "execution_count": null,
      "outputs": [
        {
          "output_type": "execute_result",
          "data": {
            "text/html": [
              "<div>\n",
              "<style scoped>\n",
              "    .dataframe tbody tr th:only-of-type {\n",
              "        vertical-align: middle;\n",
              "    }\n",
              "\n",
              "    .dataframe tbody tr th {\n",
              "        vertical-align: top;\n",
              "    }\n",
              "\n",
              "    .dataframe thead th {\n",
              "        text-align: right;\n",
              "    }\n",
              "</style>\n",
              "<table border=\"1\" class=\"dataframe\">\n",
              "  <thead>\n",
              "    <tr style=\"text-align: right;\">\n",
              "      <th></th>\n",
              "      <th>DATE</th>\n",
              "      <th>PRCP</th>\n",
              "      <th>TMAX</th>\n",
              "      <th>TMIN</th>\n",
              "      <th>RAIN</th>\n",
              "    </tr>\n",
              "  </thead>\n",
              "  <tbody>\n",
              "    <tr>\n",
              "      <th>0</th>\n",
              "      <td>1948-01-01</td>\n",
              "      <td>0.47</td>\n",
              "      <td>51</td>\n",
              "      <td>42</td>\n",
              "      <td>True</td>\n",
              "    </tr>\n",
              "    <tr>\n",
              "      <th>1</th>\n",
              "      <td>1948-01-02</td>\n",
              "      <td>0.59</td>\n",
              "      <td>45</td>\n",
              "      <td>36</td>\n",
              "      <td>True</td>\n",
              "    </tr>\n",
              "    <tr>\n",
              "      <th>2</th>\n",
              "      <td>1948-01-03</td>\n",
              "      <td>0.42</td>\n",
              "      <td>45</td>\n",
              "      <td>35</td>\n",
              "      <td>True</td>\n",
              "    </tr>\n",
              "    <tr>\n",
              "      <th>3</th>\n",
              "      <td>1948-01-04</td>\n",
              "      <td>0.31</td>\n",
              "      <td>45</td>\n",
              "      <td>34</td>\n",
              "      <td>True</td>\n",
              "    </tr>\n",
              "    <tr>\n",
              "      <th>4</th>\n",
              "      <td>1948-01-05</td>\n",
              "      <td>0.17</td>\n",
              "      <td>45</td>\n",
              "      <td>32</td>\n",
              "      <td>True</td>\n",
              "    </tr>\n",
              "  </tbody>\n",
              "</table>\n",
              "</div>"
            ],
            "text/plain": [
              "         DATE  PRCP  TMAX  TMIN  RAIN\n",
              "0  1948-01-01  0.47    51    42  True\n",
              "1  1948-01-02  0.59    45    36  True\n",
              "2  1948-01-03  0.42    45    35  True\n",
              "3  1948-01-04  0.31    45    34  True\n",
              "4  1948-01-05  0.17    45    32  True"
            ]
          },
          "metadata": {
            "tags": []
          },
          "execution_count": 2
        }
      ]
    },
    {
      "cell_type": "code",
      "metadata": {
        "id": "mBygxd4j6jZu",
        "colab_type": "code",
        "colab": {
          "base_uri": "https://localhost:8080/",
          "height": 202
        },
        "outputId": "5c189db0-7c56-4413-bb37-ab4abb40b6dc"
      },
      "source": [
        "dataset.drop(pd.isnull(dataset).any(1).nonzero()[0], inplace = True)\n",
        "\n",
        "X = dataset.iloc[: , 1:4].values #upperbound is omitted\n",
        "y = dataset.iloc[:, 4].values.astype(int)\n",
        "y_temp = dataset.iloc[:, 4].values\n",
        "\n",
        "X[:,1:3]\n"
      ],
      "execution_count": null,
      "outputs": [
        {
          "output_type": "stream",
          "text": [
            "/usr/local/lib/python3.6/dist-packages/ipykernel_launcher.py:1: FutureWarning: Series.nonzero() is deprecated and will be removed in a future version.Use Series.to_numpy().nonzero() instead\n",
            "  \"\"\"Entry point for launching an IPython kernel.\n"
          ],
          "name": "stderr"
        },
        {
          "output_type": "execute_result",
          "data": {
            "text/plain": [
              "array([[51., 42.],\n",
              "       [45., 36.],\n",
              "       [45., 35.],\n",
              "       ...,\n",
              "       [46., 32.],\n",
              "       [48., 34.],\n",
              "       [50., 36.]])"
            ]
          },
          "metadata": {
            "tags": []
          },
          "execution_count": 13
        }
      ]
    },
    {
      "cell_type": "code",
      "metadata": {
        "id": "dATH6u5e7ly1",
        "colab_type": "code",
        "colab": {}
      },
      "source": [
        "from sklearn.model_selection import train_test_split\n",
        "X_train, X_test, y_train, y_test = train_test_split(X, y, test_size = 0.20, random_state = 0)\n",
        "\n",
        "ms = MinMaxScaler(feature_range=(0,1))\n",
        "X_train = ms.fit_transform(X_train)\n",
        "X_test = ms.transform(X_test)\n"
      ],
      "execution_count": null,
      "outputs": []
    },
    {
      "cell_type": "code",
      "metadata": {
        "id": "Y7RBHLha86ln",
        "colab_type": "code",
        "colab": {
          "base_uri": "https://localhost:8080/",
          "height": 403
        },
        "outputId": "fe7a4b97-5afd-40fb-f82f-bed080bbaa38"
      },
      "source": [
        "from sklearn.svm import SVC\n",
        "classifier = SVC(kernel='linear', random_state = 0)\n",
        "classifier.fit(X_train, y_train)\n",
        "\n",
        "y_pred = classifier.predict(X_test)\n",
        "\n",
        "from sklearn.metrics import accuracy_score\n",
        "print(accuracy_score(y_test, y_pred))\n",
        "\n",
        "from sklearn.model_selection import cross_val_score\n",
        "scores = cross_val_score(classifier, X_train, y_train, cv=5)\n",
        "scores.mean() \n",
        "\n",
        "cm = confusion_matrix(y_test, y_pred)\n",
        "print('Our model has correctly predicted that there will be no rain for', cm[0,0] , 'days.')\n",
        "print('Our model has correctly predicted that there will be rain for', cm[1,1] , 'days.')\n",
        "\n",
        "cls_true = y_test\n",
        "    \n",
        "# Get the predicted classifications for the test-set.\n",
        "cls_pred = y_pred\n",
        "\n",
        "# Get the confusion matrix using sklearn.\n",
        "cm = confusion_matrix(y_true=cls_true,\n",
        "                          y_pred=cls_pred)\n",
        "\n",
        "# Print the confusion matrix as text.\n",
        "print(cm)\n",
        "\n",
        "# Plot the confusion matrix as an image.\n",
        "plt.imshow(cm, interpolation='nearest', cmap=plt.cm.Blues)\n",
        "\n",
        "# Make various adjustments to the plot.\n",
        "plt.tight_layout()\n",
        "plt.colorbar()\n",
        "tick_marks = np.arange(2)\n",
        "plt.xticks(tick_marks, range(2))\n",
        "plt.yticks(tick_marks, range(2))\n",
        "plt.xlabel('Predicted')\n",
        "plt.ylabel('True')\n",
        "    \n",
        "# Ensure the plot is shown correctly with multiple plots\n",
        "# in a single Notebook cell.\n",
        "plt.show()\n"
      ],
      "execution_count": null,
      "outputs": [
        {
          "output_type": "stream",
          "text": [
            "0.8587084148727985\n",
            "Our model has correctly predicted that there will be no rain for 2936 days.\n",
            "Our model has correctly predicted that there will be rain for 1452 days.\n",
            "[[2936    0]\n",
            " [ 722 1452]]\n"
          ],
          "name": "stdout"
        },
        {
          "output_type": "display_data",
          "data": {
            "image/png": "[encoded data removed]",
            "text/plain": [
              "<Figure size 432x288 with 2 Axes>"
            ]
          },
          "metadata": {
            "tags": []
          }
        }
      ]
    },
    {
      "cell_type": "code",
      "metadata": {
        "id": "pa2lynCzHQAv",
        "colab_type": "code",
        "colab": {
          "base_uri": "https://localhost:8080/",
          "height": 403
        },
        "outputId": "03cc6fe2-8e1e-4e54-e767-35560b9e6666"
      },
      "source": [
        "from sklearn.naive_bayes import GaussianNB\n",
        "\n",
        "gaussian = GaussianNB()\n",
        "gaussian.fit(X_train, y_train)\n",
        "y_pred_NB = gaussian.predict(X_test)\n",
        "\n",
        "from sklearn.metrics import accuracy_score\n",
        "print(accuracy_score(y_test, y_pred_NB))\n",
        "\n",
        "from sklearn.model_selection import cross_val_score\n",
        "scores = cross_val_score(gaussian, X_train, y_train, cv=5)\n",
        "scores.mean() \n",
        "\n",
        "cm1 = confusion_matrix(y_test, y_pred_NB)\n",
        "print('Our model has correctly predicted that there will be no rain for', cm1[0,0] , 'days.')\n",
        "print('Our model has correctly predicted that there will be rain for', cm1[1,1] , 'days.')\n",
        "\n",
        "print(cm1)\n",
        "# Plot the confusion matrix as an image.\n",
        "plt.imshow(cm1, interpolation='nearest', cmap=plt.cm.Blues)\n",
        "\n",
        "# Make various adjustments to the plot.\n",
        "plt.tight_layout()\n",
        "plt.colorbar()\n",
        "tick_marks = np.arange(2)\n",
        "plt.xticks(tick_marks, range(2))\n",
        "plt.yticks(tick_marks, range(2))\n",
        "plt.xlabel('Predicted')\n",
        "plt.ylabel('True')\n",
        "    \n",
        "# Ensure the plot is shown correctly with multiple plots\n",
        "# in a single Notebook cell.\n",
        "plt.show()"
      ],
      "execution_count": null,
      "outputs": [
        {
          "output_type": "stream",
          "text": [
            "1.0\n",
            "Our model has correctly predicted that there will be no rain for 2936 days.\n",
            "Our model has correctly predicted that there will be rain for 2174 days.\n",
            "[[2936    0]\n",
            " [   0 2174]]\n"
          ],
          "name": "stdout"
        },
        {
          "output_type": "display_data",
          "data": {
            "image/png": "[encoded data removed]",
            "text/plain": [
              "<Figure size 432x288 with 2 Axes>"
            ]
          },
          "metadata": {
            "tags": []
          }
        }
      ]
    },
    {
      "cell_type": "code",
      "metadata": {
        "id": "HwjgMCvRMei8",
        "colab_type": "code",
        "colab": {
          "base_uri": "https://localhost:8080/",
          "height": 403
        },
        "outputId": "7491077e-a84e-4368-af0f-15987824349a"
      },
      "source": [
        "from sklearn.tree import DecisionTreeClassifier\n",
        "\n",
        "tree = DecisionTreeClassifier()\n",
        "tree.fit(X_train, y_train)\n",
        "y_pred_tree = tree.predict(X_test)\n",
        "\n",
        "from sklearn.metrics import accuracy_score\n",
        "print(accuracy_score(y_test, y_pred_tree))\n",
        "\n",
        "from sklearn.model_selection import cross_val_score\n",
        "scores = cross_val_score(tree, X_train, y_train, cv=5)\n",
        "scores.mean() \n",
        "\n",
        "cls_true = y_test\n",
        "    \n",
        "# Get the predicted classifications for the test-set.\n",
        "cls_pred = y_pred_tree\n",
        "\n",
        "# Get the confusion matrix using sklearn.\n",
        "cm2 = confusion_matrix(y_true=cls_true,\n",
        "                          y_pred=cls_pred)\n",
        "\n",
        "# Print the confusion matrix as text.\n",
        "print(cm2)\n",
        "\n",
        "print('Our model has correctly predicted that there will be no rain for', cm2[0,0] , 'days.')\n",
        "print('Our model has correctly predicted that there will be rain for', cm2[1,1] , 'days.')\n",
        "# Plot the confusion matrix as an image.\n",
        "plt.imshow(cm2, interpolation='nearest', cmap=plt.cm.Blues)\n",
        "\n",
        "# Make various adjustments to the plot.\n",
        "plt.tight_layout()\n",
        "plt.colorbar()\n",
        "tick_marks = np.arange(2)\n",
        "plt.xticks(tick_marks, range(2))\n",
        "plt.yticks(tick_marks, range(2))\n",
        "plt.xlabel('Predicted')\n",
        "plt.ylabel('True')\n",
        "    \n",
        "# Ensure the plot is shown correctly with multiple plots\n",
        "# in a single Notebook cell.\n",
        "plt.show()"
      ],
      "execution_count": null,
      "outputs": [
        {
          "output_type": "stream",
          "text": [
            "1.0\n",
            "[[2936    0]\n",
            " [   0 2174]]\n",
            "Our model has correctly predicted that there will be no rain for 2936 days.\n",
            "Our model has correctly predicted that there will be rain for 2174 days.\n"
          ],
          "name": "stdout"
        },
        {
          "output_type": "display_data",
          "data": {
            "image/png": "[encoded data removed]",
            "text/plain": [
              "<Figure size 432x288 with 2 Axes>"
            ]
          },
          "metadata": {
            "tags": []
          }
        }
      ]
    },
    {
      "cell_type": "code",
      "metadata": {
        "id": "Ze69wD_HNQ1F",
        "colab_type": "code",
        "colab": {
          "base_uri": "https://localhost:8080/",
          "height": 366
        },
        "outputId": "afced0ea-ee90-40ab-e678-e7a8be98e9b1"
      },
      "source": [
        "from sklearn.naive_bayes import GaussianNB\n",
        "\n",
        "nb = GaussianNB()\n",
        "nb.fit(X_train, y_train)\n",
        "y_pred_nb= nb.predict(X_test)\n",
        "\n",
        "from sklearn.metrics import accuracy_score\n",
        "print(accuracy_score(y_test, y_pred_nb, normalize='false'))\n",
        "\n",
        "from sklearn.model_selection import cross_val_score\n",
        "scores = cross_val_score(nb, X_train, y_train, cv=5)\n",
        "scores.mean() \n",
        "\n",
        "cls_true = y_test\n",
        "    \n",
        "# Get the predicted classifications for the test-set.\n",
        "cls_pred = y_pred_nb\n",
        "\n",
        "# Get the confusion matrix using sklearn.\n",
        "cm3 = confusion_matrix(y_true=cls_true,\n",
        "                          y_pred=cls_pred)\n",
        "\n",
        "# Print the confusion matrix as text.\n",
        "print(cm3)\n",
        "\n",
        "# Plot the confusion matrix as an image.\n",
        "plt.imshow(cm3, interpolation='nearest', cmap=plt.cm.Blues)\n",
        "\n",
        "# Make various adjustments to the plot.\n",
        "plt.tight_layout()\n",
        "plt.colorbar()\n",
        "tick_marks = np.arange(2)\n",
        "plt.xticks(tick_marks, range(2))\n",
        "plt.yticks(tick_marks, range(2))\n",
        "plt.xlabel('Predicted')\n",
        "plt.ylabel('True')\n",
        "    \n",
        "# Ensure the plot is shown correctly with multiple plots\n",
        "# in a single Notebook cell.\n",
        "plt.show()"
      ],
      "execution_count": null,
      "outputs": [
        {
          "output_type": "stream",
          "text": [
            "1.0\n",
            "[[2936    0]\n",
            " [   0 2174]]\n"
          ],
          "name": "stdout"
        },
        {
          "output_type": "display_data",
          "data": {
            "image/png": "[encoded data removed]",
            "text/plain": [
              "<Figure size 432x288 with 2 Axes>"
            ]
          },
          "metadata": {
            "tags": []
          }
        }
      ]
    }
  ]
}